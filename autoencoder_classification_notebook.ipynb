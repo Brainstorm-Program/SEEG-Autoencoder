{
 "cells": [
  {
   "cell_type": "markdown",
   "metadata": {
    "collapsed": false,
    "jupyter": {
     "outputs_hidden": false
    }
   },
   "source": [
    "# Setup and environment"
   ]
  },
  {
   "cell_type": "markdown",
   "metadata": {
    "collapsed": false,
    "jupyter": {
     "outputs_hidden": false
    }
   },
   "source": [
    "## Import Packages"
   ]
  },
  {
   "cell_type": "code",
   "execution_count": 341,
   "metadata": {
    "collapsed": false,
    "jupyter": {
     "outputs_hidden": false
    }
   },
   "outputs": [],
   "source": [
    "import os\n",
    "\n",
    "import pandas as pd\n",
    "import numpy as np\n",
    "import matplotlib.pyplot as plt\n",
    "from sklearn.neural_network import MLPClassifier\n",
    "from sklearn.model_selection import GridSearchCV\n",
    "from sklearn.metrics import classification_report\n",
    "from tqdm import tqdm\n",
    "\n",
    "import torch\n",
    "from torch.nn.modules.utils import consume_prefix_in_state_dict_if_present\n",
    "from nn_architecture.ae_networks import TransformerAutoencoder, TransformerDoubleAutoencoder, TransformerFlattenAutoencoder\n",
    "from helpers.dataloader import Dataloader"
   ]
  },
  {
   "cell_type": "markdown",
   "metadata": {
    "collapsed": false,
    "jupyter": {
     "outputs_hidden": false
    }
   },
   "source": [
    "## Define functions"
   ]
  },
  {
   "cell_type": "code",
   "execution_count": 397,
   "metadata": {},
   "outputs": [],
   "source": [
    "def norm(data):\n",
    "    return (data-np.min(data)) / (np.max(data) - np.min(data))\n",
    "\n",
    "def load_data(data_checkpoint = 'data/seeg_ae_training_data.csv'):\n",
    "    dataloader = Dataloader(data_checkpoint, col_label='Condition', channel_label='Electrode')\n",
    "    label_and_dataset = dataloader.get_data(shuffle=False)\n",
    "    labels = label_and_dataset[:,0,:].unsqueeze(1).detach().numpy()\n",
    "    \n",
    "    dataset = label_and_dataset[:,1:,:]\n",
    "    dataset = norm(dataset.detach().numpy())\n",
    "\n",
    "    return labels, dataset\n",
    "\n",
    "def initiate_autoencoder(ae_dict, dataset):\n",
    "\n",
    "    n_channels = dataset.shape[-1]\n",
    "    sequence_length = dataset.shape[1] - 1\n",
    "\n",
    "    if ae_dict['configuration']['target'] == 'channels':\n",
    "        autoencoder = TransformerAutoencoder(input_dim=n_channels,\n",
    "                                       output_dim=ae_dict['configuration']['channels_out'],\n",
    "                                       output_dim_2=sequence_length,\n",
    "                                       target=TransformerAutoencoder.TARGET_CHANNELS,\n",
    "                                       hidden_dim=ae_dict['configuration']['hidden_dim'],\n",
    "                                       num_layers=ae_dict['configuration']['num_layers'],\n",
    "                                       num_heads=ae_dict['configuration']['num_heads'],).to('cpu')\n",
    "    elif ae_dict['configuration']['target'] == 'time':\n",
    "        autoencoder = TransformerAutoencoder(input_dim=sequence_length,\n",
    "                                       output_dim=ae_dict['configuration']['timeseries_out'],\n",
    "                                       output_dim_2=n_channels,\n",
    "                                       target=TransformerAutoencoder.TARGET_TIMESERIES,\n",
    "                                       hidden_dim=ae_dict['configuration']['hidden_dim'],\n",
    "                                       num_layers=ae_dict['configuration']['num_layers'],\n",
    "                                       num_heads=ae_dict['configuration']['num_heads'],).to('cpu')\n",
    "    elif ae_dict['configuration']['target'] == 'full':\n",
    "        autoencoder = TransformerDoubleAutoencoder(input_dim=n_channels,\n",
    "                                             output_dim=ae_dict['configuration']['output_dim'],\n",
    "                                             output_dim_2=ae_dict['configuration']['output_dim_2'],\n",
    "                                             sequence_length=sequence_length,\n",
    "                                             hidden_dim=ae_dict['configuration']['hidden_dim'],\n",
    "                                             num_layers=ae_dict['configuration']['num_layers'],\n",
    "                                             num_heads=ae_dict['configuration']['num_heads'],).to('cpu')\n",
    "    else:\n",
    "        raise ValueError(f\"Encode target '{ae_dict['configuration']['target']}' not recognized, options are 'channels', 'time', or 'full'.\")\n",
    "    consume_prefix_in_state_dict_if_present(ae_dict['model'],'module.')\n",
    "    autoencoder.load_state_dict(ae_dict['model'])\n",
    "    autoencoder.device = torch.device('cpu')\n",
    "\n",
    "    return autoencoder\n",
    "    \n",
    "def norm(data):\n",
    "    return (data-np.min(data)) / (np.max(data) - np.min(data))\n",
    "\n",
    "def encode_data(data_checkpoint, ae_dict, type='flatten'):\n",
    "\n",
    "    dataloader = Dataloader(data_checkpoint, col_label='Condition', channel_label='Electrode')\n",
    "    dataset = dataloader.get_data()\n",
    "    labels = dataset[:,0,0]\n",
    "    dataset = norm(dataset.detach().numpy())\n",
    "\n",
    "    autoencoder = initiate_autoencoder(ae_dict, dataset)\n",
    "\n",
    "    encoded_samples = []\n",
    "    for sample_index in range(len(dataset)):\n",
    "        encoded_sample = autoencoder.encode(torch.from_numpy(dataset[sample_index,1:, :]).unsqueeze(0))\n",
    "        if type == 'mean':\n",
    "            flattened_encoded_sample = np.mean(encoded_sample.detach().numpy(),axis=2)[0,:]\n",
    "        else:\n",
    "            flattened_encoded_sample = encoded_sample.flatten().detach().numpy()\n",
    "        encoded_samples.append(flattened_encoded_sample)\n",
    "        \n",
    "    return np.array(labels), np.array(encoded_samples)"
   ]
  },
  {
   "cell_type": "markdown",
   "metadata": {},
   "source": [
    "# Data and Autoencoder"
   ]
  },
  {
   "cell_type": "markdown",
   "metadata": {},
   "source": [
    "## Load Autoencoder"
   ]
  },
  {
   "cell_type": "code",
   "execution_count": 398,
   "metadata": {},
   "outputs": [
    {
     "name": "stdout",
     "output_type": "stream",
     "text": [
      "device: cuda\n",
      "model_class: TransformerDoubleAutoencoder\n",
      "batch_size: 4\n",
      "n_epochs: 5000\n",
      "sample_interval: 100\n",
      "learning_rate: 0.0001\n",
      "hidden_dim: 256\n",
      "path_dataset: data/seeg_ae_training_data.csv\n",
      "path_checkpoint: trained_ae/checkpoint.pt\n",
      "timeseries_out: 320\n",
      "channels_out: 6\n",
      "target: full\n",
      "channel_label: Electrode\n",
      "trained_epochs: 5000\n",
      "input_dim: 12\n",
      "output_dim: 6\n",
      "output_dim_2: 320\n",
      "num_layers: 2\n",
      "num_heads: 8\n",
      "activation: sigmoid\n"
     ]
    }
   ],
   "source": [
    "ae_checkpoint = 'trained_ae/ae_ddp_5000ep_20240119_023414.pt'\n",
    "ae_dict = torch.load(ae_checkpoint, map_location=torch.device('cpu'))\n",
    "\n",
    "#Report\n",
    "for key in ae_dict['configuration'].keys():\n",
    "    if key != 'dataloader' and key != 'history':\n",
    "        print(f\"{key}: {ae_dict['configuration'][key]}\")"
   ]
  },
  {
   "cell_type": "markdown",
   "metadata": {},
   "source": [
    "## Load and Encode Data"
   ]
  },
  {
   "cell_type": "code",
   "execution_count": 399,
   "metadata": {},
   "outputs": [
    {
     "name": "stdout",
     "output_type": "stream",
     "text": [
      "Encoding training set...\n",
      "Encoding validation set...\n"
     ]
    }
   ],
   "source": [
    "print('Encoding training set...')\n",
    "y_train, x_train = encode_data('data/seeg_ae_training_data.csv', ae_dict)\n",
    "\n",
    "print('Encoding validation set...')\n",
    "y_test, x_test = encode_data('data/seeg_ae_validation_data.csv', ae_dict)\n"
   ]
  },
  {
   "cell_type": "markdown",
   "metadata": {
    "collapsed": false,
    "jupyter": {
     "outputs_hidden": false
    }
   },
   "source": [
    "# Classifier"
   ]
  },
  {
   "cell_type": "code",
   "execution_count": 400,
   "metadata": {
    "collapsed": false,
    "jupyter": {
     "outputs_hidden": false
    }
   },
   "outputs": [],
   "source": [
    "# Create a random generator with a seed for reproducible results\n",
    "rng = np.random.default_rng(42)\n",
    "\n",
    "# convert the list to a numpy array\n",
    "x_train = np.array(x_train)\n",
    "y_train = np.array(y_train)\n",
    "x_test = np.array(x_test)\n",
    "y_test = np.array(y_test)\n",
    "\n",
    "# Generate a shuffled set of indices\n",
    "indices = np.arange(len(y_train))\n",
    "rng.shuffle(indices)\n",
    "\n",
    "# Use the shuffled indices to reorder both arrays\n",
    "x_train = x_train[indices]\n",
    "y_train = y_train[indices]"
   ]
  },
  {
   "cell_type": "markdown",
   "metadata": {
    "collapsed": false,
    "jupyter": {
     "outputs_hidden": false
    }
   },
   "source": [
    "# 4.2 Train the Classifier\n",
    "\n",
    "A classifier has a lot of different settings and hyperparameter configurations. Instead of manually try different settings, we leverage the `GridSearchCV` functionality from the sklearn package."
   ]
  },
  {
   "cell_type": "markdown",
   "metadata": {
    "collapsed": false,
    "jupyter": {
     "outputs_hidden": false
    }
   },
   "source": [
    "Now, we train the network"
   ]
  },
  {
   "cell_type": "code",
   "execution_count": 402,
   "metadata": {
    "collapsed": false,
    "jupyter": {
     "outputs_hidden": false
    }
   },
   "outputs": [
    {
     "data": {
      "text/html": [
       "<style>#sk-container-id-17 {color: black;}#sk-container-id-17 pre{padding: 0;}#sk-container-id-17 div.sk-toggleable {background-color: white;}#sk-container-id-17 label.sk-toggleable__label {cursor: pointer;display: block;width: 100%;margin-bottom: 0;padding: 0.3em;box-sizing: border-box;text-align: center;}#sk-container-id-17 label.sk-toggleable__label-arrow:before {content: \"▸\";float: left;margin-right: 0.25em;color: #696969;}#sk-container-id-17 label.sk-toggleable__label-arrow:hover:before {color: black;}#sk-container-id-17 div.sk-estimator:hover label.sk-toggleable__label-arrow:before {color: black;}#sk-container-id-17 div.sk-toggleable__content {max-height: 0;max-width: 0;overflow: hidden;text-align: left;background-color: #f0f8ff;}#sk-container-id-17 div.sk-toggleable__content pre {margin: 0.2em;color: black;border-radius: 0.25em;background-color: #f0f8ff;}#sk-container-id-17 input.sk-toggleable__control:checked~div.sk-toggleable__content {max-height: 200px;max-width: 100%;overflow: auto;}#sk-container-id-17 input.sk-toggleable__control:checked~label.sk-toggleable__label-arrow:before {content: \"▾\";}#sk-container-id-17 div.sk-estimator input.sk-toggleable__control:checked~label.sk-toggleable__label {background-color: #d4ebff;}#sk-container-id-17 div.sk-label input.sk-toggleable__control:checked~label.sk-toggleable__label {background-color: #d4ebff;}#sk-container-id-17 input.sk-hidden--visually {border: 0;clip: rect(1px 1px 1px 1px);clip: rect(1px, 1px, 1px, 1px);height: 1px;margin: -1px;overflow: hidden;padding: 0;position: absolute;width: 1px;}#sk-container-id-17 div.sk-estimator {font-family: monospace;background-color: #f0f8ff;border: 1px dotted black;border-radius: 0.25em;box-sizing: border-box;margin-bottom: 0.5em;}#sk-container-id-17 div.sk-estimator:hover {background-color: #d4ebff;}#sk-container-id-17 div.sk-parallel-item::after {content: \"\";width: 100%;border-bottom: 1px solid gray;flex-grow: 1;}#sk-container-id-17 div.sk-label:hover label.sk-toggleable__label {background-color: #d4ebff;}#sk-container-id-17 div.sk-serial::before {content: \"\";position: absolute;border-left: 1px solid gray;box-sizing: border-box;top: 0;bottom: 0;left: 50%;z-index: 0;}#sk-container-id-17 div.sk-serial {display: flex;flex-direction: column;align-items: center;background-color: white;padding-right: 0.2em;padding-left: 0.2em;position: relative;}#sk-container-id-17 div.sk-item {position: relative;z-index: 1;}#sk-container-id-17 div.sk-parallel {display: flex;align-items: stretch;justify-content: center;background-color: white;position: relative;}#sk-container-id-17 div.sk-item::before, #sk-container-id-17 div.sk-parallel-item::before {content: \"\";position: absolute;border-left: 1px solid gray;box-sizing: border-box;top: 0;bottom: 0;left: 50%;z-index: -1;}#sk-container-id-17 div.sk-parallel-item {display: flex;flex-direction: column;z-index: 1;position: relative;background-color: white;}#sk-container-id-17 div.sk-parallel-item:first-child::after {align-self: flex-end;width: 50%;}#sk-container-id-17 div.sk-parallel-item:last-child::after {align-self: flex-start;width: 50%;}#sk-container-id-17 div.sk-parallel-item:only-child::after {width: 0;}#sk-container-id-17 div.sk-dashed-wrapped {border: 1px dashed gray;margin: 0 0.4em 0.5em 0.4em;box-sizing: border-box;padding-bottom: 0.4em;background-color: white;}#sk-container-id-17 div.sk-label label {font-family: monospace;font-weight: bold;display: inline-block;line-height: 1.2em;}#sk-container-id-17 div.sk-label-container {text-align: center;}#sk-container-id-17 div.sk-container {/* jupyter's `normalize.less` sets `[hidden] { display: none; }` but bootstrap.min.css set `[hidden] { display: none !important; }` so we also need the `!important` here to be able to override the default hidden behavior on the sphinx rendered scikit-learn.org. See: https://github.com/scikit-learn/scikit-learn/issues/21755 */display: inline-block !important;position: relative;}#sk-container-id-17 div.sk-text-repr-fallback {display: none;}</style><div id=\"sk-container-id-17\" class=\"sk-top-container\"><div class=\"sk-text-repr-fallback\"><pre>MLPClassifier(activation=&#x27;identity&#x27;, hidden_layer_sizes=(20,), max_iter=1000,\n",
       "              random_state=1251)</pre><b>In a Jupyter environment, please rerun this cell to show the HTML representation or trust the notebook. <br />On GitHub, the HTML representation is unable to render, please try loading this page with nbviewer.org.</b></div><div class=\"sk-container\" hidden><div class=\"sk-item\"><div class=\"sk-estimator sk-toggleable\"><input class=\"sk-toggleable__control sk-hidden--visually\" id=\"sk-estimator-id-17\" type=\"checkbox\" checked><label for=\"sk-estimator-id-17\" class=\"sk-toggleable__label sk-toggleable__label-arrow\">MLPClassifier</label><div class=\"sk-toggleable__content\"><pre>MLPClassifier(activation=&#x27;identity&#x27;, hidden_layer_sizes=(20,), max_iter=1000,\n",
       "              random_state=1251)</pre></div></div></div></div></div>"
      ],
      "text/plain": [
       "MLPClassifier(activation='identity', hidden_layer_sizes=(20,), max_iter=1000,\n",
       "              random_state=1251)"
      ]
     },
     "execution_count": 402,
     "metadata": {},
     "output_type": "execute_result"
    }
   ],
   "source": [
    "neuralNetOutput = MLPClassifier(hidden_layer_sizes=(20,),\n",
    "                             activation='identity',\n",
    "                             solver = 'adam',\n",
    "                             alpha = 0.0001,\n",
    "                             learning_rate = 'constant',\n",
    "                             max_iter = 1000,\n",
    "                             random_state = 1251)\n",
    "\n",
    "neuralNetOutput.fit(x_train, y_train)"
   ]
  },
  {
   "cell_type": "markdown",
   "metadata": {
    "collapsed": false,
    "jupyter": {
     "outputs_hidden": false
    }
   },
   "source": [
    "# 4.3 Validation/Prediction\n",
    "\n",
    "We predict data from the 'NextDayRecall'"
   ]
  },
  {
   "cell_type": "code",
   "execution_count": 403,
   "metadata": {
    "collapsed": false,
    "jupyter": {
     "outputs_hidden": false
    }
   },
   "outputs": [
    {
     "name": "stdout",
     "output_type": "stream",
     "text": [
      "Prediction: 12%\n",
      "[1. 2. 2. 1. 1. 1. 2.]\n",
      "[1. 1. 1. 2. 2. 2. 1.]\n"
     ]
    }
   ],
   "source": [
    "y_test, y_pred = y_test, neuralNetOutput.predict(x_test)\n",
    "predictResults = classification_report(y_test, y_pred, output_dict=True)\n",
    "\n",
    "print('Prediction: ' + str(round(predictResults['macro avg']['f1-score']*100)) + '%')\n",
    "print(y_test)\n",
    "print(y_pred)"
   ]
  }
 ],
 "metadata": {
  "kernelspec": {
   "display_name": "Python 3 (ipykernel)",
   "language": "python",
   "name": "python3"
  },
  "language_info": {
   "codemirror_mode": {
    "name": "ipython",
    "version": 3
   },
   "file_extension": ".py",
   "mimetype": "text/x-python",
   "name": "python",
   "nbconvert_exporter": "python",
   "pygments_lexer": "ipython3",
   "version": "3.9.16"
  }
 },
 "nbformat": 4,
 "nbformat_minor": 4
}
