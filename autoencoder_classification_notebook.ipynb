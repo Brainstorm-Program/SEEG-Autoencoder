{
 "cells": [
  {
   "cell_type": "markdown",
   "metadata": {
    "collapsed": false,
    "jupyter": {
     "outputs_hidden": false
    }
   },
   "source": [
    "# Setup and environment"
   ]
  },
  {
   "cell_type": "markdown",
   "metadata": {
    "collapsed": false,
    "jupyter": {
     "outputs_hidden": false
    }
   },
   "source": [
    "## Import Packages"
   ]
  },
  {
   "cell_type": "code",
   "execution_count": null,
   "metadata": {
    "collapsed": false,
    "jupyter": {
     "outputs_hidden": false
    }
   },
   "outputs": [],
   "source": [
    "import os\n",
    "\n",
    "import pandas as pd\n",
    "import numpy as np\n",
    "import matplotlib.pyplot as plt\n",
    "from sklearn.neural_network import MLPClassifier\n",
    "from sklearn.model_selection import GridSearchCV\n",
    "from sklearn.metrics import classification_report\n",
    "from tqdm import tqdm\n",
    "\n",
    "import torch\n",
    "from torch.nn.modules.utils import consume_prefix_in_state_dict_if_present\n",
    "from nn_architecture.ae_networks import TransformerAutoencoder, TransformerDoubleAutoencoder, TransformerFlattenAutoencoder\n",
    "from helpers.dataloader import Dataloader"
   ]
  },
  {
   "cell_type": "markdown",
   "metadata": {
    "collapsed": false,
    "jupyter": {
     "outputs_hidden": false
    }
   },
   "source": [
    "## Define functions"
   ]
  },
  {
   "cell_type": "code",
   "execution_count": null,
   "metadata": {},
   "outputs": [],
   "source": [
    "def norm(data):\n",
    "    return (data-np.min(data)) / (np.max(data) - np.min(data))\n",
    "\n",
    "def load_data(data_checkpoint = 'data/seeg_ae_training_data.csv'):\n",
    "    dataloader = Dataloader(data_checkpoint, col_label='Condition', channel_label='Electrode')\n",
    "    label_and_dataset = dataloader.get_data(shuffle=False)\n",
    "    labels = label_and_dataset[:,0,:].unsqueeze(1).detach().numpy()\n",
    "    \n",
    "    dataset = label_and_dataset[:,1:,:]\n",
    "    dataset = norm(dataset.detach().numpy())\n",
    "\n",
    "    return labels, dataset\n",
    "\n",
    "def initiate_autoencoder(ae_dict, dataset):\n",
    "\n",
    "    n_channels = dataset.shape[-1]\n",
    "    sequence_length = dataset.shape[1] - 1\n",
    "\n",
    "    if ae_dict['configuration']['target'] == 'channels':\n",
    "        autoencoder = TransformerAutoencoder(input_dim=n_channels,\n",
    "                                       output_dim=ae_dict['configuration']['channels_out'],\n",
    "                                       output_dim_2=sequence_length,\n",
    "                                       target=TransformerAutoencoder.TARGET_CHANNELS,\n",
    "                                       hidden_dim=ae_dict['configuration']['hidden_dim'],\n",
    "                                       num_layers=ae_dict['configuration']['num_layers'],\n",
    "                                       num_heads=ae_dict['configuration']['num_heads'],).to('cpu')\n",
    "    elif ae_dict['configuration']['target'] == 'time':\n",
    "        autoencoder = TransformerAutoencoder(input_dim=sequence_length,\n",
    "                                       output_dim=ae_dict['configuration']['timeseries_out'],\n",
    "                                       output_dim_2=n_channels,\n",
    "                                       target=TransformerAutoencoder.TARGET_TIMESERIES,\n",
    "                                       hidden_dim=ae_dict['configuration']['hidden_dim'],\n",
    "                                       num_layers=ae_dict['configuration']['num_layers'],\n",
    "                                       num_heads=ae_dict['configuration']['num_heads'],).to('cpu')\n",
    "    elif ae_dict['configuration']['target'] == 'full':\n",
    "        autoencoder = TransformerDoubleAutoencoder(input_dim=n_channels,\n",
    "                                             output_dim=ae_dict['configuration']['output_dim'],\n",
    "                                             output_dim_2=ae_dict['configuration']['output_dim_2'],\n",
    "                                             sequence_length=sequence_length,\n",
    "                                             hidden_dim=ae_dict['configuration']['hidden_dim'],\n",
    "                                             num_layers=ae_dict['configuration']['num_layers'],\n",
    "                                             num_heads=ae_dict['configuration']['num_heads'],).to('cpu')\n",
    "    else:\n",
    "        raise ValueError(f\"Encode target '{ae_dict['configuration']['target']}' not recognized, options are 'channels', 'time', or 'full'.\")\n",
    "    consume_prefix_in_state_dict_if_present(ae_dict['model'],'module.')\n",
    "    autoencoder.load_state_dict(ae_dict['model'])\n",
    "    autoencoder.device = torch.device('cpu')\n",
    "\n",
    "    return autoencoder\n",
    "    \n",
    "def norm(data):\n",
    "    return (data-np.min(data)) / (np.max(data) - np.min(data))\n",
    "\n",
    "def encode_data(data_checkpoint, ae_dict, type='flatten'):\n",
    "\n",
    "    dataloader = Dataloader(data_checkpoint, col_label='Condition', channel_label='Electrode')\n",
    "    dataset = dataloader.get_data()\n",
    "    labels = dataset[:,0,0]-1\n",
    "    dataset = norm(dataset.detach().numpy())\n",
    "\n",
    "    autoencoder = initiate_autoencoder(ae_dict, dataset)\n",
    "\n",
    "    encoded_samples = []\n",
    "    for sample_index in range(len(dataset)):\n",
    "        encoded_sample = autoencoder.encode(torch.from_numpy(dataset[sample_index,1:, :]).unsqueeze(0))\n",
    "        if type == 'mean':\n",
    "            flattened_encoded_sample = np.mean(encoded_sample.detach().numpy(),axis=2)[0,:]\n",
    "        else:\n",
    "            flattened_encoded_sample = encoded_sample.flatten().detach().numpy()\n",
    "        encoded_samples.append(flattened_encoded_sample)\n",
    "        \n",
    "    return np.array(labels), np.array(encoded_samples)"
   ]
  },
  {
   "cell_type": "markdown",
   "metadata": {},
   "source": [
    "# Data and Autoencoder"
   ]
  },
  {
   "cell_type": "markdown",
   "metadata": {},
   "source": [
    "## Load Autoencoder"
   ]
  },
  {
   "cell_type": "code",
   "execution_count": null,
   "metadata": {},
   "outputs": [],
   "source": [
    "ae_checkpoint = 'trained_ae/fully_trained_seeg_autoencoder.pt'\n",
    "ae_dict = torch.load(ae_checkpoint, map_location=torch.device('cpu'))\n",
    "\n",
    "#Report\n",
    "for key in ae_dict['configuration'].keys():\n",
    "    if key != 'dataloader' and key != 'history':\n",
    "        print(f\"{key}: {ae_dict['configuration'][key]}\")"
   ]
  },
  {
   "cell_type": "markdown",
   "metadata": {},
   "source": [
    "## Load and Encode Data"
   ]
  },
  {
   "cell_type": "code",
   "execution_count": null,
   "metadata": {},
   "outputs": [],
   "source": [
    "print('Encoding training set...')\n",
    "y_train, x_train = encode_data('data/seeg_ae_training_data.csv', ae_dict, type='flatten')\n",
    "\n",
    "print('Encoding validation set...')\n",
    "y_test, x_test = encode_data('data/seeg_ae_validation_data.csv', ae_dict, type='flatten')\n"
   ]
  },
  {
   "cell_type": "markdown",
   "metadata": {
    "collapsed": false,
    "jupyter": {
     "outputs_hidden": false
    }
   },
   "source": [
    "# Classifier"
   ]
  },
  {
   "cell_type": "code",
   "execution_count": null,
   "metadata": {
    "collapsed": false,
    "jupyter": {
     "outputs_hidden": false
    }
   },
   "outputs": [],
   "source": [
    "# Create a random generator with a seed for reproducible results\n",
    "rng = np.random.default_rng(42)\n",
    "\n",
    "# convert the list to a numpy array\n",
    "x_train = np.array(x_train)\n",
    "y_train = np.array(y_train)\n",
    "x_test = np.array(x_test)\n",
    "y_test = np.array(y_test)\n",
    "\n",
    "# Generate a shuffled set of indices\n",
    "indices = np.arange(len(y_train))\n",
    "rng.shuffle(indices)\n",
    "\n",
    "# Use the shuffled indices to reorder both arrays\n",
    "x_train = x_train[indices]\n",
    "y_train = y_train[indices]"
   ]
  },
  {
   "cell_type": "markdown",
   "metadata": {
    "collapsed": false,
    "jupyter": {
     "outputs_hidden": false
    }
   },
   "source": [
    "# 4.2 Train the Classifier"
   ]
  },
  {
   "cell_type": "code",
   "execution_count": null,
   "metadata": {
    "collapsed": false,
    "jupyter": {
     "outputs_hidden": false
    }
   },
   "outputs": [],
   "source": [
    "neuralNetOutput = MLPClassifier(hidden_layer_sizes=(20,),\n",
    "                             activation='logistic',\n",
    "                             solver = 'adam',\n",
    "                             alpha = 0.0001,\n",
    "                             learning_rate = 'constant',\n",
    "                             max_iter = 100,\n",
    "                             random_state = 1251)\n",
    "\n",
    "neuralNetOutput.fit(x_train, y_train)"
   ]
  },
  {
   "cell_type": "markdown",
   "metadata": {
    "collapsed": false,
    "jupyter": {
     "outputs_hidden": false
    }
   },
   "source": [
    "# 4.3 Validation/Prediction\n",
    "\n",
    "We predict data from the 'NextDayRecall'"
   ]
  },
  {
   "cell_type": "code",
   "execution_count": null,
   "metadata": {
    "collapsed": false,
    "jupyter": {
     "outputs_hidden": false
    }
   },
   "outputs": [],
   "source": [
    "y_test, y_pred = y_test, neuralNetOutput.predict(x_test)\n",
    "predictResults = classification_report(y_test, y_pred, output_dict=True)\n",
    "\n",
    "print('Prediction: ' + str(round(predictResults['macro avg']['f1-score']*100)) + '%')\n",
    "print(y_test)\n",
    "print(y_pred)"
   ]
  }
 ],
 "metadata": {
  "kernelspec": {
   "display_name": "Python 3 (ipykernel)",
   "language": "python",
   "name": "python3"
  },
  "language_info": {
   "codemirror_mode": {
    "name": "ipython",
    "version": 3
   },
   "file_extension": ".py",
   "mimetype": "text/x-python",
   "name": "python",
   "nbconvert_exporter": "python",
   "pygments_lexer": "ipython3",
   "version": "3.9.16"
  }
 },
 "nbformat": 4,
 "nbformat_minor": 4
}
