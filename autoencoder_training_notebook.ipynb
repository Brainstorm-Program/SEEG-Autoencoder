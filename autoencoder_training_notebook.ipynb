{
 "cells": [
  {
   "cell_type": "code",
   "execution_count": 3,
   "metadata": {},
   "outputs": [],
   "source": [
    "path_dataset = 'data/ganTrialElectrodeERP_p50_e8_len100.csv'\n",
    "save_name = 'trained_ae/test_ae.pt'\n",
    "target = 'full'\n",
    "channel_label = 'Electrode'\n",
    "channels_out = '4'\n",
    "timeseries_out = '25'\n",
    "n_epochs = '10'"
   ]
  },
  {
   "cell_type": "code",
   "execution_count": 5,
   "metadata": {},
   "outputs": [
    {
     "name": "stdout",
     "output_type": "stream",
     "text": [
      "^C\n"
     ]
    }
   ],
   "source": [
    "!python .\\autoencoder_training_main.py path_dataset={path_dataset} save_name={save_name} target={target} channel_label={channel_label} channels_out={channels_out} timeseries_out={timeseries_out} n_epochs={n_epochs}\""
   ]
  }
 ],
 "metadata": {
  "kernelspec": {
   "display_name": "seegautoencoderEnv",
   "language": "python",
   "name": "python3"
  },
  "language_info": {
   "codemirror_mode": {
    "name": "ipython",
    "version": 3
   },
   "file_extension": ".py",
   "mimetype": "text/x-python",
   "name": "python",
   "nbconvert_exporter": "python",
   "pygments_lexer": "ipython3",
   "version": "3.10.11"
  }
 },
 "nbformat": 4,
 "nbformat_minor": 2
}
